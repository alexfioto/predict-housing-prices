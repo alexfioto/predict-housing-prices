{
 "cells": [
  {
   "cell_type": "markdown",
   "metadata": {},
   "source": [
    "# Ridge Regression Performance Model"
   ]
  },
  {
   "cell_type": "code",
   "execution_count": 660,
   "metadata": {},
   "outputs": [],
   "source": [
    "import pandas as pd\n",
    "import numpy as np\n",
    "\n",
    "import matplotlib.pyplot as plt\n",
    "import seaborn as sns\n",
    "\n",
    "from sklearn.preprocessing import OneHotEncoder, OrdinalEncoder, PolynomialFeatures, StandardScaler\n",
    "from sklearn.pipeline import make_pipeline\n",
    "from sklearn.feature_selection import RFE, SelectKBest, f_regression\n",
    "from sklearn.linear_model import LinearRegression, Ridge, Lasso, ElasticNet\n",
    "from sklearn.neighbors import KNeighborsRegressor\n",
    "from sklearn.model_selection import train_test_split, GridSearchCV\n",
    "from sklearn.metrics import mean_squared_error\n",
    "from sklearn.impute import KNNImputer\n",
    "\n",
    "from sklearn.preprocessing import QuantileTransformer"
   ]
  },
  {
   "cell_type": "markdown",
   "metadata": {},
   "source": [
    "This notebook combines everything that learned in the previous notebooks into one performance model. Much of the data listed below is explored in much more detail in previous notebooks. I will note in each cell which notebook to look into for explanations."
   ]
  },
  {
   "cell_type": "code",
   "execution_count": 661,
   "metadata": {},
   "outputs": [],
   "source": [
    "# Reading in the training data. Storing the dataset as \n",
    "training = pd.read_csv('./datasets/train.csv')\n",
    "test = pd.read_csv('./datasets/test.csv')"
   ]
  },
  {
   "cell_type": "code",
   "execution_count": 662,
   "metadata": {},
   "outputs": [],
   "source": [
    "# Re-assigning column names\n",
    "clean_columns = [column.replace(' ', '_').lower() for column in list(training.columns)]\n",
    "training.columns = clean_columns\n",
    "test.columns = clean_columns[:-1]"
   ]
  },
  {
   "cell_type": "code",
   "execution_count": 663,
   "metadata": {},
   "outputs": [
    {
     "data": {
      "text/plain": [
       "(2051, 81)"
      ]
     },
     "execution_count": 663,
     "metadata": {},
     "output_type": "execute_result"
    }
   ],
   "source": [
    "# Checking the shape\n",
    "training.shape"
   ]
  },
  {
   "cell_type": "code",
   "execution_count": 664,
   "metadata": {},
   "outputs": [],
   "source": [
    "# Removing some outliers. Commenting out some outliers to test their impact on my model. Refer to notebook 2.2.\n",
    "\n",
    "training = training[training['gr_liv_area']<4000]\n",
    "#training = training[training['1st_flr_sf']<3500]\n",
    "training.drop([125, 1897], inplace=True)\n",
    "#training = training[training['all_flr_sf']<3200]\n",
    "training = training[training['garage_cars'] != 5]\n",
    "training.drop([873, 554], inplace=True)\n",
    "#training = training[training['mas_vnr_area'] < 1400]\n",
    "#training = training[training['total_bsmt_sf'] < 3000]\n",
    "#training = training[training['totrms_abvgrd'] < 13]\n",
    "training = training[training['lot_area']<60000]\n",
    "training = training[training['lot_frontage'] < 300]\n",
    "#training[(training['neighborhood']==1) & (training['saleprice'] > 400000)]"
   ]
  },
  {
   "cell_type": "code",
   "execution_count": 665,
   "metadata": {},
   "outputs": [],
   "source": [
    "# Selecting features. Refer to notebook 2.2.\n",
    "\n",
    "features = ['overall_qual',  \n",
    "            'exter_qual',\n",
    "            'all_flr_sf', \n",
    "            'neighborhood',\n",
    "            'kitchen_qual',\n",
    "            'total_bsmt_sf', \n",
    "            'garage_area', \n",
    "            'year_built',\n",
    "            'year_remod/add',\n",
    "            'full_bath',\n",
    "            'mas_vnr_area',\n",
    "            'fireplaces', \n",
    "            'heating_qc',\n",
    "            'bsmtfin_sf_1',\n",
    "            'lot_area',\n",
    "            'lot_frontage',\n",
    "]"
   ]
  },
  {
   "cell_type": "markdown",
   "metadata": {},
   "source": [
    "The cells below map and add features. Please refer to notebook 2.2 for more details."
   ]
  },
  {
   "cell_type": "code",
   "execution_count": 666,
   "metadata": {},
   "outputs": [],
   "source": [
    "# Mapping exter_quality\n",
    "training['exter_qual'].replace({\n",
    "                        'Po': 1,\n",
    "                        'Fa': 2,\n",
    "                        'TA': 3,\n",
    "                        'Gd': 4,\n",
    "                        'Ex': 5},\n",
    "                        inplace=True\n",
    ")\n",
    "\n",
    "test['exter_qual'].replace({\n",
    "                    'Po': 1,\n",
    "                    'Fa': 2,\n",
    "                    'TA': 3,\n",
    "                    'Gd': 4,\n",
    "                    'Ex': 5},\n",
    "                    inplace=True\n",
    ")"
   ]
  },
  {
   "cell_type": "code",
   "execution_count": 667,
   "metadata": {},
   "outputs": [],
   "source": [
    "# Mapping kitchen_qual\n",
    "training['kitchen_qual'].replace({\n",
    "                            'Po': 1,\n",
    "                            'Fa': 2,\n",
    "                            'TA': 3,\n",
    "                            'Gd': 4,\n",
    "                            'Ex': 5},\n",
    "                        inplace=True\n",
    ")\n",
    "\n",
    "test['kitchen_qual'].replace({\n",
    "                        'Po': 1,\n",
    "                        'Fa': 2,\n",
    "                        'TA': 3,\n",
    "                        'Gd': 4,\n",
    "                        'Ex': 5},\n",
    "                    inplace=True\n",
    ")"
   ]
  },
  {
   "cell_type": "code",
   "execution_count": 668,
   "metadata": {},
   "outputs": [],
   "source": [
    "# Creating all floor sqft feature\n",
    "training['all_flr_sf'] = training['1st_flr_sf'] + training['2nd_flr_sf']\n",
    "test['all_flr_sf'] = test['1st_flr_sf'] + test['2nd_flr_sf']"
   ]
  },
  {
   "cell_type": "code",
   "execution_count": 669,
   "metadata": {},
   "outputs": [],
   "source": [
    "# Mapping heating quality to numeric.\n",
    "training['heating_qc'] = \\\n",
    "            training['heating_qc'].replace({\n",
    "                'Po': 0,\n",
    "                'Fa': 1,\n",
    "                'TA': 2,\n",
    "                'Gd': 3,\n",
    "                'Ex': 4\n",
    "})\n",
    "\n",
    "test['heating_qc'] = \\\n",
    "            test['heating_qc'].replace({\n",
    "                'Po': 0,\n",
    "                'Fa': 1,\n",
    "                'TA': 2,\n",
    "                'Gd': 3,\n",
    "                'Ex': 4\n",
    "})"
   ]
  },
  {
   "cell_type": "code",
   "execution_count": 670,
   "metadata": {},
   "outputs": [],
   "source": [
    "# Mapping neighborhoods to desirability score\n",
    "training['neighborhood'].replace({\n",
    "                'MeadowV': 1,\n",
    "                'IDOTRR': 1,\n",
    "                'BrDale': 1,\n",
    "                'OldTown': 1,\n",
    "                'Edwards': 1,\n",
    "                'BrkSide': 1,\n",
    "                'Sawyer': 2,\n",
    "                'SWISU': 2,\n",
    "                'Landmrk': 2,\n",
    "                'Blueste': 2,\n",
    "                'NAmes': 2,\n",
    "                'NPkVill': 2,\n",
    "                'Mitchel': 2,\n",
    "                'Gilbert': 3,\n",
    "                'SawyerW': 3,\n",
    "                'NWAmes': 3,\n",
    "                'Greens': 3,\n",
    "                'Blmngtn': 3,\n",
    "                'Crawfor': 3,\n",
    "                'CollgCr': 3,\n",
    "                'ClearCr':  3,\n",
    "                'Timber': 4,\n",
    "                'Somerst': 4,\n",
    "                'Veenker': 4,\n",
    "                'GrnHill': 4,\n",
    "                'NoRidge': 4,\n",
    "                'StoneBr': 4,\n",
    "                'NridgHt': 4},\n",
    "        inplace = True)\n",
    "\n",
    "test['neighborhood'].replace({\n",
    "                'MeadowV': 1,\n",
    "                'IDOTRR': 1,\n",
    "                'BrDale': 1,\n",
    "                'OldTown': 1,\n",
    "                'Edwards': 1,\n",
    "                'BrkSide': 1,\n",
    "                'Sawyer': 2,\n",
    "                'SWISU': 2,\n",
    "                'Landmrk': 2,\n",
    "                'Blueste': 2,\n",
    "                'NAmes': 2,\n",
    "                'NPkVill': 2,\n",
    "                'Mitchel': 2,\n",
    "                'Gilbert': 3,\n",
    "                'SawyerW': 3,\n",
    "                'NWAmes': 3,\n",
    "                'Greens': 3,\n",
    "                'Blmngtn': 3,\n",
    "                'Crawfor': 3,\n",
    "                'CollgCr': 3,\n",
    "                'ClearCr':  3,\n",
    "                'Timber': 4,\n",
    "                'Somerst': 4,\n",
    "                'Veenker': 4,\n",
    "                'GrnHill': 4,\n",
    "                'NoRidge': 4,\n",
    "                'StoneBr': 4,\n",
    "                'NridgHt': 4},\n",
    "        inplace = True)"
   ]
  },
  {
   "cell_type": "markdown",
   "metadata": {},
   "source": [
    "## Testing"
   ]
  },
  {
   "cell_type": "code",
   "execution_count": 671,
   "metadata": {},
   "outputs": [
    {
     "data": {
      "image/png": "[encoded data removed]",
      "text/plain": [
       "<Figure size 432x288 with 1 Axes>"
      ]
     },
     "metadata": {
      "needs_background": "light"
     },
     "output_type": "display_data"
    }
   ],
   "source": [
    "# Inspiration from Claire Hester and Minoo Taghavi\n",
    "sns.boxplot(data=training, x='saleprice')\n",
    "training = training[training['saleprice'] < 500000]"
   ]
  },
  {
   "cell_type": "code",
   "execution_count": 672,
   "metadata": {},
   "outputs": [],
   "source": [
    "X = training[features]\n",
    "y = training['saleprice']\n",
    "test = test[features]"
   ]
  },
  {
   "cell_type": "code",
   "execution_count": 717,
   "metadata": {},
   "outputs": [],
   "source": [
    "ridge_pipe = make_pipeline(KNNImputer(),                       \n",
    "    StandardScaler(), \n",
    "    PolynomialFeatures(),                       \n",
    "    SelectKBest(), \n",
    "    Ridge())"
   ]
  },
  {
   "cell_type": "code",
   "execution_count": 718,
   "metadata": {},
   "outputs": [
    {
     "data": {
      "text/html": [
       "<style>div.sk-top-container {color: black;background-color: white;}div.sk-toggleable {background-color: white;}label.sk-toggleable__label {cursor: pointer;display: block;width: 100%;margin-bottom: 0;padding: 0.2em 0.3em;box-sizing: border-box;text-align: center;}div.sk-toggleable__content {max-height: 0;max-width: 0;overflow: hidden;text-align: left;background-color: #f0f8ff;}div.sk-toggleable__content pre {margin: 0.2em;color: black;border-radius: 0.25em;background-color: #f0f8ff;}input.sk-toggleable__control:checked~div.sk-toggleable__content {max-height: 200px;max-width: 100%;overflow: auto;}div.sk-estimator input.sk-toggleable__control:checked~label.sk-toggleable__label {background-color: #d4ebff;}div.sk-label input.sk-toggleable__control:checked~label.sk-toggleable__label {background-color: #d4ebff;}input.sk-hidden--visually {border: 0;clip: rect(1px 1px 1px 1px);clip: rect(1px, 1px, 1px, 1px);height: 1px;margin: -1px;overflow: hidden;padding: 0;position: absolute;width: 1px;}div.sk-estimator {font-family: monospace;background-color: #f0f8ff;margin: 0.25em 0.25em;border: 1px dotted black;border-radius: 0.25em;box-sizing: border-box;}div.sk-estimator:hover {background-color: #d4ebff;}div.sk-parallel-item::after {content: \"\";width: 100%;border-bottom: 1px solid gray;flex-grow: 1;}div.sk-label:hover label.sk-toggleable__label {background-color: #d4ebff;}div.sk-serial::before {content: \"\";position: absolute;border-left: 1px solid gray;box-sizing: border-box;top: 2em;bottom: 0;left: 50%;}div.sk-serial {display: flex;flex-direction: column;align-items: center;background-color: white;}div.sk-item {z-index: 1;}div.sk-parallel {display: flex;align-items: stretch;justify-content: center;background-color: white;}div.sk-parallel-item {display: flex;flex-direction: column;position: relative;background-color: white;}div.sk-parallel-item:first-child::after {align-self: flex-end;width: 50%;}div.sk-parallel-item:last-child::after {align-self: flex-start;width: 50%;}div.sk-parallel-item:only-child::after {width: 0;}div.sk-dashed-wrapped {border: 1px dashed gray;margin: 0.2em;box-sizing: border-box;padding-bottom: 0.1em;background-color: white;position: relative;}div.sk-label label {font-family: monospace;font-weight: bold;background-color: white;display: inline-block;line-height: 1.2em;}div.sk-label-container {position: relative;z-index: 2;text-align: center;}div.sk-container {display: inline-block;position: relative;}</style><div class=\"sk-top-container\"><div class=\"sk-container\"><div class=\"sk-item sk-dashed-wrapped\"><div class=\"sk-label-container\"><div class=\"sk-label sk-toggleable\"><input class=\"sk-toggleable__control sk-hidden--visually\" id=\"35a70540-28bc-4bee-84e7-26b70bd7d550\" type=\"checkbox\" ><label class=\"sk-toggleable__label\" for=\"35a70540-28bc-4bee-84e7-26b70bd7d550\">Pipeline</label><div class=\"sk-toggleable__content\"><pre>Pipeline(steps=[('knnimputer', KNNImputer()),\n",
       "                ('standardscaler', StandardScaler()),\n",
       "                ('polynomialfeatures', PolynomialFeatures()),\n",
       "                ('selectkbest', SelectKBest()), ('ridge', Ridge())])</pre></div></div></div><div class=\"sk-serial\"><div class=\"sk-item\"><div class=\"sk-estimator sk-toggleable\"><input class=\"sk-toggleable__control sk-hidden--visually\" id=\"3e1e957a-a8bd-4ba3-ba2b-b34d914ddf8a\" type=\"checkbox\" ><label class=\"sk-toggleable__label\" for=\"3e1e957a-a8bd-4ba3-ba2b-b34d914ddf8a\">KNNImputer</label><div class=\"sk-toggleable__content\"><pre>KNNImputer()</pre></div></div></div><div class=\"sk-item\"><div class=\"sk-estimator sk-toggleable\"><input class=\"sk-toggleable__control sk-hidden--visually\" id=\"3889c24b-d3e4-4099-9dc4-03016e57ce75\" type=\"checkbox\" ><label class=\"sk-toggleable__label\" for=\"3889c24b-d3e4-4099-9dc4-03016e57ce75\">StandardScaler</label><div class=\"sk-toggleable__content\"><pre>StandardScaler()</pre></div></div></div><div class=\"sk-item\"><div class=\"sk-estimator sk-toggleable\"><input class=\"sk-toggleable__control sk-hidden--visually\" id=\"7301a004-ad64-4625-8e03-c72df19fe750\" type=\"checkbox\" ><label class=\"sk-toggleable__label\" for=\"7301a004-ad64-4625-8e03-c72df19fe750\">PolynomialFeatures</label><div class=\"sk-toggleable__content\"><pre>PolynomialFeatures()</pre></div></div></div><div class=\"sk-item\"><div class=\"sk-estimator sk-toggleable\"><input class=\"sk-toggleable__control sk-hidden--visually\" id=\"91813e51-b645-42dd-9e9a-b3627ab8ae28\" type=\"checkbox\" ><label class=\"sk-toggleable__label\" for=\"91813e51-b645-42dd-9e9a-b3627ab8ae28\">SelectKBest</label><div class=\"sk-toggleable__content\"><pre>SelectKBest()</pre></div></div></div><div class=\"sk-item\"><div class=\"sk-estimator sk-toggleable\"><input class=\"sk-toggleable__control sk-hidden--visually\" id=\"920915c1-bccd-4e4b-a936-1beb10f05414\" type=\"checkbox\" ><label class=\"sk-toggleable__label\" for=\"920915c1-bccd-4e4b-a936-1beb10f05414\">Ridge</label><div class=\"sk-toggleable__content\"><pre>Ridge()</pre></div></div></div></div></div></div></div>"
      ],
      "text/plain": [
       "Pipeline(steps=[('knnimputer', KNNImputer()),\n",
       "                ('standardscaler', StandardScaler()),\n",
       "                ('polynomialfeatures', PolynomialFeatures()),\n",
       "                ('selectkbest', SelectKBest()), ('ridge', Ridge())])"
      ]
     },
     "execution_count": 718,
     "metadata": {},
     "output_type": "execute_result"
    }
   ],
   "source": [
    "from sklearn import set_config\n",
    "set_config(display='diagram')\n",
    "ridge_pipe"
   ]
  },
  {
   "cell_type": "code",
   "execution_count": 691,
   "metadata": {
    "jupyter": {
     "source_hidden": true
    }
   },
   "outputs": [],
   "source": [
    "# lr_pipe = make_pipeline(KNNImputer(),\n",
    "#     StandardScaler(), \n",
    "#     PolynomialFeatures(), \n",
    "#     SelectKBest(), \n",
    "#     LinearRegression())\n",
    "\n",
    "# lasso_pipe = make_pipeline(KNNImputer(),\n",
    "#                            StandardScaler(), \n",
    "#                            PolynomialFeatures(),\n",
    "#                            Lasso())"
   ]
  },
  {
   "cell_type": "code",
   "execution_count": 719,
   "metadata": {},
   "outputs": [],
   "source": [
    "ridge_params = {\n",
    "    'selectkbest__k': range(1, 81, 5),\n",
    "    'ridge__fit_intercept': [True, False],\n",
    "    'ridge__alpha': range(175, 250, 5)\n",
    "          }\n",
    "\n",
    "# best alpha 175 for range(150, 250)"
   ]
  },
  {
   "cell_type": "code",
   "execution_count": 707,
   "metadata": {
    "jupyter": {
     "source_hidden": true
    }
   },
   "outputs": [],
   "source": [
    "# lr_params = {\n",
    "#     'selectkbest__k': range(30, 200),\n",
    "#     'linearregression__fit_intercept': [True, False],\n",
    "#           }\n",
    "\n",
    "# lasso_params = {\n",
    "#     'lasso__fit_intercept': [True, False],\n",
    "#     'lasso__alpha': range(550, 650)\n",
    "#           }"
   ]
  },
  {
   "cell_type": "code",
   "execution_count": 720,
   "metadata": {},
   "outputs": [],
   "source": [
    "gs = GridSearchCV(ridge_pipe, ridge_params, n_jobs=-1)"
   ]
  },
  {
   "cell_type": "code",
   "execution_count": 721,
   "metadata": {},
   "outputs": [
    {
     "name": "stderr",
     "output_type": "stream",
     "text": [
      "/Users/alexander.fioto/opt/anaconda3/lib/python3.7/site-packages/sklearn/feature_selection/_univariate_selection.py:115: UserWarning: Features [0] are constant.\n",
      "  UserWarning)\n",
      "/Users/alexander.fioto/opt/anaconda3/lib/python3.7/site-packages/sklearn/feature_selection/_univariate_selection.py:116: RuntimeWarning: invalid value encountered in true_divide\n",
      "  f = msb / msw\n"
     ]
    },
    {
     "data": {
      "text/html": [
       "<style>div.sk-top-container {color: black;background-color: white;}div.sk-toggleable {background-color: white;}label.sk-toggleable__label {cursor: pointer;display: block;width: 100%;margin-bottom: 0;padding: 0.2em 0.3em;box-sizing: border-box;text-align: center;}div.sk-toggleable__content {max-height: 0;max-width: 0;overflow: hidden;text-align: left;background-color: #f0f8ff;}div.sk-toggleable__content pre {margin: 0.2em;color: black;border-radius: 0.25em;background-color: #f0f8ff;}input.sk-toggleable__control:checked~div.sk-toggleable__content {max-height: 200px;max-width: 100%;overflow: auto;}div.sk-estimator input.sk-toggleable__control:checked~label.sk-toggleable__label {background-color: #d4ebff;}div.sk-label input.sk-toggleable__control:checked~label.sk-toggleable__label {background-color: #d4ebff;}input.sk-hidden--visually {border: 0;clip: rect(1px 1px 1px 1px);clip: rect(1px, 1px, 1px, 1px);height: 1px;margin: -1px;overflow: hidden;padding: 0;position: absolute;width: 1px;}div.sk-estimator {font-family: monospace;background-color: #f0f8ff;margin: 0.25em 0.25em;border: 1px dotted black;border-radius: 0.25em;box-sizing: border-box;}div.sk-estimator:hover {background-color: #d4ebff;}div.sk-parallel-item::after {content: \"\";width: 100%;border-bottom: 1px solid gray;flex-grow: 1;}div.sk-label:hover label.sk-toggleable__label {background-color: #d4ebff;}div.sk-serial::before {content: \"\";position: absolute;border-left: 1px solid gray;box-sizing: border-box;top: 2em;bottom: 0;left: 50%;}div.sk-serial {display: flex;flex-direction: column;align-items: center;background-color: white;}div.sk-item {z-index: 1;}div.sk-parallel {display: flex;align-items: stretch;justify-content: center;background-color: white;}div.sk-parallel-item {display: flex;flex-direction: column;position: relative;background-color: white;}div.sk-parallel-item:first-child::after {align-self: flex-end;width: 50%;}div.sk-parallel-item:last-child::after {align-self: flex-start;width: 50%;}div.sk-parallel-item:only-child::after {width: 0;}div.sk-dashed-wrapped {border: 1px dashed gray;margin: 0.2em;box-sizing: border-box;padding-bottom: 0.1em;background-color: white;position: relative;}div.sk-label label {font-family: monospace;font-weight: bold;background-color: white;display: inline-block;line-height: 1.2em;}div.sk-label-container {position: relative;z-index: 2;text-align: center;}div.sk-container {display: inline-block;position: relative;}</style><div class=\"sk-top-container\"><div class=\"sk-container\"><div class=\"sk-item sk-dashed-wrapped\"><div class=\"sk-label-container\"><div class=\"sk-label sk-toggleable\"><input class=\"sk-toggleable__control sk-hidden--visually\" id=\"88852b1e-6513-48b7-a8b3-41516ffb26fe\" type=\"checkbox\" ><label class=\"sk-toggleable__label\" for=\"88852b1e-6513-48b7-a8b3-41516ffb26fe\">GridSearchCV</label><div class=\"sk-toggleable__content\"><pre>GridSearchCV(estimator=Pipeline(steps=[('knnimputer', KNNImputer()),\n",
       "                                       ('standardscaler', StandardScaler()),\n",
       "                                       ('polynomialfeatures',\n",
       "                                        PolynomialFeatures()),\n",
       "                                       ('selectkbest', SelectKBest()),\n",
       "                                       ('ridge', Ridge())]),\n",
       "             n_jobs=-1,\n",
       "             param_grid={'ridge__alpha': range(175, 250, 5),\n",
       "                         'ridge__fit_intercept': [True, False],\n",
       "                         'selectkbest__k': range(1, 81, 5)})</pre></div></div></div><div class=\"sk-parallel\"><div class=\"sk-parallel-item\"><div class=\"sk-item\"><div class=\"sk-serial\"><div class=\"sk-item\"><div class=\"sk-serial\"><div class=\"sk-item\"><div class=\"sk-estimator sk-toggleable\"><input class=\"sk-toggleable__control sk-hidden--visually\" id=\"9b327a5a-b48b-4e7e-8d0c-c07ce1e95a1e\" type=\"checkbox\" ><label class=\"sk-toggleable__label\" for=\"9b327a5a-b48b-4e7e-8d0c-c07ce1e95a1e\">KNNImputer</label><div class=\"sk-toggleable__content\"><pre>KNNImputer()</pre></div></div></div><div class=\"sk-item\"><div class=\"sk-estimator sk-toggleable\"><input class=\"sk-toggleable__control sk-hidden--visually\" id=\"729396c6-8b91-4eb9-8ce1-c0208cbb940c\" type=\"checkbox\" ><label class=\"sk-toggleable__label\" for=\"729396c6-8b91-4eb9-8ce1-c0208cbb940c\">StandardScaler</label><div class=\"sk-toggleable__content\"><pre>StandardScaler()</pre></div></div></div><div class=\"sk-item\"><div class=\"sk-estimator sk-toggleable\"><input class=\"sk-toggleable__control sk-hidden--visually\" id=\"e2a0d668-b5a9-422b-bcd8-215e57e3cb60\" type=\"checkbox\" ><label class=\"sk-toggleable__label\" for=\"e2a0d668-b5a9-422b-bcd8-215e57e3cb60\">PolynomialFeatures</label><div class=\"sk-toggleable__content\"><pre>PolynomialFeatures()</pre></div></div></div><div class=\"sk-item\"><div class=\"sk-estimator sk-toggleable\"><input class=\"sk-toggleable__control sk-hidden--visually\" id=\"a625d032-1ba5-4527-b8d3-6a46aaba0a1a\" type=\"checkbox\" ><label class=\"sk-toggleable__label\" for=\"a625d032-1ba5-4527-b8d3-6a46aaba0a1a\">SelectKBest</label><div class=\"sk-toggleable__content\"><pre>SelectKBest()</pre></div></div></div><div class=\"sk-item\"><div class=\"sk-estimator sk-toggleable\"><input class=\"sk-toggleable__control sk-hidden--visually\" id=\"359b851e-db78-443e-b6e4-ded916568ade\" type=\"checkbox\" ><label class=\"sk-toggleable__label\" for=\"359b851e-db78-443e-b6e4-ded916568ade\">Ridge</label><div class=\"sk-toggleable__content\"><pre>Ridge()</pre></div></div></div></div></div></div></div></div></div></div></div></div>"
      ],
      "text/plain": [
       "GridSearchCV(estimator=Pipeline(steps=[('knnimputer', KNNImputer()),\n",
       "                                       ('standardscaler', StandardScaler()),\n",
       "                                       ('polynomialfeatures',\n",
       "                                        PolynomialFeatures()),\n",
       "                                       ('selectkbest', SelectKBest()),\n",
       "                                       ('ridge', Ridge())]),\n",
       "             n_jobs=-1,\n",
       "             param_grid={'ridge__alpha': range(175, 250, 5),\n",
       "                         'ridge__fit_intercept': [True, False],\n",
       "                         'selectkbest__k': range(1, 81, 5)})"
      ]
     },
     "execution_count": 721,
     "metadata": {},
     "output_type": "execute_result"
    }
   ],
   "source": [
    "gs.fit(X, y)"
   ]
  },
  {
   "cell_type": "code",
   "execution_count": 727,
   "metadata": {},
   "outputs": [
    {
     "name": "stdout",
     "output_type": "stream",
     "text": [
      "Training Score 0.9203590876825025\n",
      "RMSE Training 21430.57306360015\n",
      "{'ridge__alpha': 175, 'ridge__fit_intercept': True, 'selectkbest__k': 76}\n"
     ]
    },
    {
     "data": {
      "image/png": "[encoded data removed]",
      "text/plain": [
       "<Figure size 432x288 with 1 Axes>"
      ]
     },
     "metadata": {
      "needs_background": "light"
     },
     "output_type": "display_data"
    }
   ],
   "source": [
    "# Scoring the model\n",
    "\n",
    "print('Training Score', gs.score(X, y))\n",
    "print('RMSE Training', mean_squared_error(y, gs.predict(X), squared=False))\n",
    "print(gs.best_params_)\n",
    "\n",
    "preds = gs.predict(X)\n",
    "resids = np.array(y) - preds\n",
    "sns.scatterplot(x=y, y=resids, color='brown')\n",
    "plt.xlabel('Predicted Values')\n",
    "plt.ylabel('Residuals')\n",
    "plt.axhline();\n",
    "plt.title('Residuals of Predicted Values', fontsize=20)\n",
    "plt.savefig('./assets/Ridge Residuals')"
   ]
  },
  {
   "cell_type": "markdown",
   "metadata": {},
   "source": [
    "I have found that the Ridge Linear Regression is the best model for predicting house sale prices in Ames, Iowa. My model had an R2 score of .9381 and a RMSE of 18892 for the training data. Per the residual plot above, there are a few predictions that my model guessed a high value but infact it was much lower. The best model hyperparameters ended up being an alpha of 175 and SelectKBest chose 148 of the 150 features including the polynomials. "
   ]
  },
  {
   "cell_type": "code",
   "execution_count": 711,
   "metadata": {},
   "outputs": [
    {
     "data": {
      "image/png": "[encoded data removed]",
      "text/plain": [
       "<Figure size 432x288 with 1 Axes>"
      ]
     },
     "metadata": {
      "needs_background": "light"
     },
     "output_type": "display_data"
    }
   ],
   "source": [
    "sns.regplot(x=preds, y=y, marker='.', color='brown')\n",
    "plt.xlabel('Predicted Values')\n",
    "plt.ylabel('Actual Values');"
   ]
  },
  {
   "cell_type": "code",
   "execution_count": 712,
   "metadata": {},
   "outputs": [],
   "source": [
    "# Creating predictions CSV\n",
    "test_preds = gs.predict(test)\n",
    "test1 = pd.read_csv('./datasets/test.csv')\n",
    "submission= pd.DataFrame(test_preds, index=test1['Id'])\n",
    "submission.columns = ['saleprice']"
   ]
  },
  {
   "cell_type": "code",
   "execution_count": 683,
   "metadata": {},
   "outputs": [],
   "source": [
    "#Exporting predictions CSV\n",
    "submission.to_csv('./datasets/submission.csv')"
   ]
  },
  {
   "cell_type": "code",
   "execution_count": 722,
   "metadata": {},
   "outputs": [],
   "source": [
    "# Finding coefficients and feature names and creating a sorted coefficient dataframe\n",
    "coefs = gs.best_estimator_.named_steps['ridge'].coef_\n",
    "feature_names = gs.best_estimator_.named_steps['selectkbest'].get_support()\n",
    "\n",
    "X_cols = gs.best_estimator_.named_steps['polynomialfeatures'].get_feature_names(X.columns)\n",
    "feature_names_array = np.array(X_cols)[feature_names==True]\n",
    "\n",
    "coefs_df = pd.DataFrame({'Feature Names': feature_names_array,'Coefficients': coefs})\n",
    "\n",
    "sorted_coefs_df = coefs_df.sort_values(by='Coefficients')"
   ]
  },
  {
   "cell_type": "code",
   "execution_count": 723,
   "metadata": {},
   "outputs": [],
   "source": [
    "# Creating a dataframe of the top 5 and bottom 5 coefficients\n",
    "limited_coefs_df = pd.concat([sorted_coefs_df.head(5), sorted_coefs_df.tail(5)])"
   ]
  },
  {
   "cell_type": "code",
   "execution_count": 732,
   "metadata": {},
   "outputs": [
    {
     "data": {
      "image/png": "[encoded data removed]",
      "text/plain": [
       "<Figure size 1080x576 with 1 Axes>"
      ]
     },
     "metadata": {
      "needs_background": "light"
     },
     "output_type": "display_data"
    }
   ],
   "source": [
    "# Graphing the coefs.\n",
    "plt.figure(figsize=(15, 8))\n",
    "g = sns.barplot(data=limited_coefs_df, x='Feature Names', y='Coefficients', palette='seismic_r')\n",
    "plt.title('Features that Matter', fontsize=(45))\n",
    "g.set_xticks(range(10))\n",
    "g.set_xticklabels(['Overall * Heating Qual.','Exterior Qual. * Year Remodeled','Overall Qual * Year Built','Basement sqft * Lot Frontage','Year Built * Heating Qual.','Basement Type 1 sqft', 'Total Basement sqft', 'Neighborhood', 'Overall Quality', 'All Floor sqft'])\n",
    "plt.xticks(rotation=20)\n",
    "plt.savefig('./assets/prettygraph.png');"
   ]
  },
  {
   "cell_type": "code",
   "execution_count": 735,
   "metadata": {},
   "outputs": [
    {
     "data": {
      "text/html": [
       "<div>\n",
       "<style scoped>\n",
       "    .dataframe tbody tr th:only-of-type {\n",
       "        vertical-align: middle;\n",
       "    }\n",
       "\n",
       "    .dataframe tbody tr th {\n",
       "        vertical-align: top;\n",
       "    }\n",
       "\n",
       "    .dataframe thead th {\n",
       "        text-align: right;\n",
       "    }\n",
       "</style>\n",
       "<table border=\"1\" class=\"dataframe\">\n",
       "  <thead>\n",
       "    <tr style=\"text-align: right;\">\n",
       "      <th></th>\n",
       "      <th>Feature Names</th>\n",
       "      <th>Coefficients</th>\n",
       "    </tr>\n",
       "  </thead>\n",
       "  <tbody>\n",
       "    <tr>\n",
       "      <th>23</th>\n",
       "      <td>overall_qual heating_qc</td>\n",
       "      <td>-3076.790956</td>\n",
       "    </tr>\n",
       "    <tr>\n",
       "      <th>18</th>\n",
       "      <td>overall_qual year_built</td>\n",
       "      <td>-2469.444868</td>\n",
       "    </tr>\n",
       "    <tr>\n",
       "      <th>60</th>\n",
       "      <td>total_bsmt_sf^2</td>\n",
       "      <td>-2191.957828</td>\n",
       "    </tr>\n",
       "    <tr>\n",
       "      <th>58</th>\n",
       "      <td>kitchen_qual lot_area</td>\n",
       "      <td>-1817.854023</td>\n",
       "    </tr>\n",
       "    <tr>\n",
       "      <th>48</th>\n",
       "      <td>neighborhood kitchen_qual</td>\n",
       "      <td>-1315.031657</td>\n",
       "    </tr>\n",
       "    <tr>\n",
       "      <th>...</th>\n",
       "      <td>...</td>\n",
       "      <td>...</td>\n",
       "    </tr>\n",
       "    <tr>\n",
       "      <th>6</th>\n",
       "      <td>garage_area</td>\n",
       "      <td>7988.469334</td>\n",
       "    </tr>\n",
       "    <tr>\n",
       "      <th>3</th>\n",
       "      <td>neighborhood</td>\n",
       "      <td>8774.708351</td>\n",
       "    </tr>\n",
       "    <tr>\n",
       "      <th>5</th>\n",
       "      <td>total_bsmt_sf</td>\n",
       "      <td>11068.266194</td>\n",
       "    </tr>\n",
       "    <tr>\n",
       "      <th>0</th>\n",
       "      <td>overall_qual</td>\n",
       "      <td>13586.017821</td>\n",
       "    </tr>\n",
       "    <tr>\n",
       "      <th>2</th>\n",
       "      <td>all_flr_sf</td>\n",
       "      <td>18829.044705</td>\n",
       "    </tr>\n",
       "  </tbody>\n",
       "</table>\n",
       "<p>76 rows × 2 columns</p>\n",
       "</div>"
      ],
      "text/plain": [
       "                Feature Names  Coefficients\n",
       "23    overall_qual heating_qc  -3076.790956\n",
       "18    overall_qual year_built  -2469.444868\n",
       "60            total_bsmt_sf^2  -2191.957828\n",
       "58      kitchen_qual lot_area  -1817.854023\n",
       "48  neighborhood kitchen_qual  -1315.031657\n",
       "..                        ...           ...\n",
       "6                 garage_area   7988.469334\n",
       "3                neighborhood   8774.708351\n",
       "5               total_bsmt_sf  11068.266194\n",
       "0                overall_qual  13586.017821\n",
       "2                  all_flr_sf  18829.044705\n",
       "\n",
       "[76 rows x 2 columns]"
      ]
     },
     "execution_count": 735,
     "metadata": {},
     "output_type": "execute_result"
    }
   ],
   "source": [
    "coefs_df.sort_values(by='Coefficients')"
   ]
  },
  {
   "cell_type": "code",
   "execution_count": null,
   "metadata": {},
   "outputs": [],
   "source": []
  },
  {
   "cell_type": "code",
   "execution_count": null,
   "metadata": {},
   "outputs": [],
   "source": []
  }
 ],
 "metadata": {
  "kernelspec": {
   "display_name": "Python 3",
   "language": "python",
   "name": "python3"
  },
  "language_info": {
   "codemirror_mode": {
    "name": "ipython",
    "version": 3
   },
   "file_extension": ".py",
   "mimetype": "text/x-python",
   "name": "python",
   "nbconvert_exporter": "python",
   "pygments_lexer": "ipython3",
   "version": "3.7.7"
  }
 },
 "nbformat": 4,
 "nbformat_minor": 4
}
